{
 "cells": [
  {
   "cell_type": "code",
   "execution_count": null,
   "metadata": {},
   "outputs": [],
   "source": [
    "# importing libraries\n",
    "import time\n",
    "import concurrent.futures\n",
    "import urllib.request\n",
    "from bs4 import BeautifulSoup\n",
    "import sqlite3\n",
    "import queue\n",
    "import requests\n",
    "import json\n",
    "# setting up connection to database with WAL mode and manual commit\n",
    "conn = sqlite3.connect('../db.sqlite3')\n",
    "conn.isolation_level=None\n",
    "cur = conn.cursor()\n",
    "cur.execute(\"PRAGMA journal_mode=WAL\")\n",
    "API_KEY=\"9578e593&i\"\n",
    "MAX_THREADS = 10\n",
    "BUFFER_SIZE = 100\n",
    "get_query = f'''\n",
    "    select tconst from coreapi_titlebasics where imagelink is null limit {BUFFER_SIZE}\n",
    "    '''\n",
    "set_query = \"update coreapi_titlebasics set imagelink = ? where tconst = ?\"\n",
    "\n",
    "q = queue.Queue()"
   ]
  },
  {
   "cell_type": "code",
   "execution_count": null,
   "metadata": {},
   "outputs": [],
   "source": [
    "# function which consumes the list and insert values to database in bulk\n",
    "def insert_imagelinks_todb():\n",
    "    image_list = []\n",
    "    print(\"q size  = \",q.qsize())\n",
    "    while not q.empty():\n",
    "        image_list.append(q.get())\n",
    "    try:\n",
    "        cur.execute(\"begin\")\n",
    "        cur.executemany(set_query, image_list)\n",
    "        cur.execute(\"commit\")\n",
    "    except:\n",
    "        cur.execute(\"rollback\")\n",
    "    image_list.clear()\n",
    "\n",
    "# task to download and scrape data from imdb\n",
    "def download_url(imdbid):\n",
    "    movie_url = f\"http://www.omdbapi.com/?apikey={API_KEY}&i=\"+imdbid[0]\n",
    "    response = requests.get(movie_url)\n",
    "    img_link = 'N/A'\n",
    "    img_link = json.loads(response.text)['Poster']\n",
    "#     if img_link == 'N/A':\n",
    "#         img_link = \"Not Available\"\n",
    "    q.put((img_link, imdbid[0]))\n",
    "    \n",
    "# to download one batch of images\n",
    "def download_image_links(imdb_ids):\n",
    "    threads = min(MAX_THREADS, len(imdb_ids))\n",
    "    with concurrent.futures.ThreadPoolExecutor() as executor:\n",
    "        executor.map(download_url, imdb_ids)\n",
    "    insert_imagelinks_todb()\n",
    "\n",
    "def main():\n",
    "    while True:\n",
    "        cur.execute(get_query)\n",
    "        imdb_ids = cur.fetchall()\n",
    "        if len(imdb_ids):\n",
    "            t0 = time.time()\n",
    "            download_image_links(imdb_ids)\n",
    "            t1 = time.time()\n",
    "            print(f\"\\r {t1-t0} seconds to insert {len(imdb_ids)} links.\", end='')\n",
    "        else:\n",
    "            break"
   ]
  },
  {
   "cell_type": "code",
   "execution_count": null,
   "metadata": {},
   "outputs": [],
   "source": [
    "main()\n",
    "conn.close()"
   ]
  }
 ],
 "metadata": {
  "kernelspec": {
   "display_name": "Python 3",
   "language": "python",
   "name": "python3"
  },
  "language_info": {
   "codemirror_mode": {
    "name": "ipython",
    "version": 3
   },
   "file_extension": ".py",
   "mimetype": "text/x-python",
   "name": "python",
   "nbconvert_exporter": "python",
   "pygments_lexer": "ipython3",
   "version": "3.8.2"
  }
 },
 "nbformat": 4,
 "nbformat_minor": 4
}
