{
 "cells": [
  {
   "cell_type": "code",
   "execution_count": 6,
   "metadata": {},
   "outputs": [
    {
     "data": {
      "text/plain": [
       "<sqlite3.Cursor at 0x7f3b9c498a40>"
      ]
     },
     "execution_count": 6,
     "metadata": {},
     "output_type": "execute_result"
    }
   ],
   "source": [
    "import sqlite3\n",
    "conn = sqlite3.connect('../db.sqlite3')\n",
    "conn.isolation_level=None\n",
    "cur = conn.cursor()\n",
    "cur.execute(\"PRAGMA journal_mode=WAL\")"
   ]
  },
  {
   "cell_type": "code",
   "execution_count": 8,
   "metadata": {},
   "outputs": [
    {
     "name": "stdout",
     "output_type": "stream",
     "text": [
      "tt0000001\n",
      "tt0000002\n",
      "tt0000003\n",
      "tt0000004\n",
      "tt0000005\n",
      "tt0000006\n",
      "tt0000007\n",
      "tt0000008\n",
      "tt0000009\n",
      "tt0000010\n"
     ]
    }
   ],
   "source": [
    "query = \"select tconst from coreapi_titlebasics where imagelink is null limit 10;\"\n",
    "while True:\n",
    "    try:\n",
    "        cur.execute(\"begin\")\n",
    "        cur.execute(query)\n",
    "        for tconst in cur.fetchall():\n",
    "            add_link(tconst)\n",
    "        break\n",
    "        cur.execute(\"commit\")\n",
    "    except:\n",
    "        cur.execute(\"rollback\")\n",
    "        "
   ]
  }
 ],
 "metadata": {
  "kernelspec": {
   "display_name": "Python 3",
   "language": "python",
   "name": "python3"
  },
  "language_info": {
   "codemirror_mode": {
    "name": "ipython",
    "version": 3
   },
   "file_extension": ".py",
   "mimetype": "text/x-python",
   "name": "python",
   "nbconvert_exporter": "python",
   "pygments_lexer": "ipython3",
   "version": "3.8.2"
  }
 },
 "nbformat": 4,
 "nbformat_minor": 4
}
