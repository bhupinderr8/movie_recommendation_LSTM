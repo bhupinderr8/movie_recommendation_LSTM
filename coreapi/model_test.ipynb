{
 "cells": [
  {
   "cell_type": "code",
   "execution_count": 1,
   "metadata": {},
   "outputs": [
    {
     "name": "stderr",
     "output_type": "stream",
     "text": [
      "Using TensorFlow backend.\n"
     ]
    }
   ],
   "source": [
    "import keras\n",
    "import tensorflow as tf"
   ]
  },
  {
   "cell_type": "code",
   "execution_count": 2,
   "metadata": {},
   "outputs": [],
   "source": [
    "from keras import backend as K"
   ]
  },
  {
   "cell_type": "code",
   "execution_count": 3,
   "metadata": {},
   "outputs": [],
   "source": [
    "K.set_learning_phase(0)"
   ]
  },
  {
   "cell_type": "code",
   "execution_count": 10,
   "metadata": {},
   "outputs": [
    {
     "name": "stdout",
     "output_type": "stream",
     "text": [
      "[<tf.Tensor 'activation_1/Softmax:0' shape=(?, 1683) dtype=float32>]\n"
     ]
    }
   ],
   "source": [
    "from keras.models import load_model\n",
    "import os\n",
    "dirname = os.path.dirname(os.path.abspath(\"__file__\"))\n",
    "model = load_model(os.path.join(dirname, 'coreapi/dataset/keras_model.h5'))\n",
    "print(model.outputs)"
   ]
  },
  {
   "cell_type": "code",
   "execution_count": 11,
   "metadata": {},
   "outputs": [
    {
     "name": "stdout",
     "output_type": "stream",
     "text": [
      "[<tf.Tensor 'activation_1/Softmax:0' shape=(?, 1683) dtype=float32>]\n"
     ]
    }
   ],
   "source": [
    "print(model.outputs)"
   ]
  },
  {
   "cell_type": "code",
   "execution_count": 12,
   "metadata": {},
   "outputs": [
    {
     "name": "stdout",
     "output_type": "stream",
     "text": [
      "_________________________________________________________________\nLayer (type)                 Output Shape              Param #   \n=================================================================\nembedding_1 (Embedding)      (None, None, 200)         336600    \n_________________________________________________________________\nlstm_5 (LSTM)                (None, 200)               320800    \n_________________________________________________________________\ndense_3 (Dense)              (None, 1683)              338283    \n_________________________________________________________________\nactivation_1 (Activation)    (None, 1683)              0         \n=================================================================\nTotal params: 995,683\nTrainable params: 995,683\nNon-trainable params: 0\n_________________________________________________________________\n"
     ]
    }
   ],
   "source": [
    "model.summary()"
   ]
  },
  {
   "cell_type": "code",
   "execution_count": 13,
   "metadata": {},
   "outputs": [
    {
     "name": "stdout",
     "output_type": "stream",
     "text": [
      "export_path = /home/bhupinder/PycharmProjects/untitled1/1\n\n\nAlready saved a model, cleaning up\n\n[sudo] password for bhupinder: "
     ]
    }
   ],
   "source": [
    "import os\n",
    "MODEL_DIR = \"/home/bhupinder/PycharmProjects/untitled1\"\n",
    "version = 1\n",
    "export_path = os.path.join(MODEL_DIR, str(version))\n",
    "print('export_path = {}\\n'.format(export_path))\n",
    "if os.path.isdir(export_path):\n",
    "    print('\\nAlready saved a model, cleaning up\\n')\n",
    "    !sudo rm -r {export_path}\n",
    "\n",
    "tf.saved_model.simple_save(\n",
    "    keras.backend.get_session(),\n",
    "    export_path,\n",
    "    inputs={'inpput_img': model.input},\n",
    "    outputs={'output': model.output})\n",
    "!saved_model_cli show --dir {export_path} --all\n",
    "os.environ[\"MODEL_DIR\"] = MODEL_DIR"
   ]
  },
  {
   "cell_type": "code",
   "execution_count": 8,
   "metadata": {},
   "outputs": [
    {
     "name": "stdout",
     "output_type": "stream",
     "text": [
      "Starting job # 0 in a separate thread.\n"
     ]
    }
   ],
   "source": [
    "%%bash --bg \n",
    "nohup tensorflow_model_server \\\n",
    "  --rest_api_port=850 \\\n",
    "  --model_name=model \\\n",
    "  --model_base_path=\"${MODEL_DIR}\" >server.log 2>&1"
   ]
  },
  {
   "cell_type": "code",
   "execution_count": 9,
   "metadata": {},
   "outputs": [
    {
     "name": "stdout",
     "output_type": "stream",
     "text": [
      "2019-01-02 23:42:02.462814: I tensorflow_serving/core/loader_harness.cc:66] Approving load for servable version {name: model version: 1}\r\n",
      "2019-01-02 23:42:02.462851: I tensorflow_serving/core/loader_harness.cc:74] Loading servable version {name: model version: 1}\r\n",
      "2019-01-02 23:42:02.462915: I external/org_tensorflow/tensorflow/contrib/session_bundle/bundle_shim.cc:363] Attempting to load native SavedModelBundle in bundle-shim from: /home/bhupinder/PycharmProjects/untitled1/1\r\n",
      "2019-01-02 23:42:02.462944: I external/org_tensorflow/tensorflow/cc/saved_model/reader.cc:31] Reading SavedModel from: /home/bhupinder/PycharmProjects/untitled1/1\r\n",
      "2019-01-02 23:42:02.485172: I external/org_tensorflow/tensorflow/cc/saved_model/reader.cc:54] Reading meta graph with tags { serve }\r\n",
      "2019-01-02 23:42:02.502974: I external/org_tensorflow/tensorflow/core/platform/cpu_feature_guard.cc:141] Your CPU supports instructions that this TensorFlow binary was not compiled to use: AVX2 FMA\r\n",
      "2019-01-02 23:42:02.532819: I external/org_tensorflow/tensorflow/cc/saved_model/loader.cc:162] Restoring SavedModel bundle.\r\n",
      "2019-01-02 23:42:02.579586: I external/org_tensorflow/tensorflow/cc/saved_model/loader.cc:138] Running MainOp with key legacy_init_op on SavedModel bundle.\r\n",
      "2019-01-02 23:42:02.580198: I external/org_tensorflow/tensorflow/cc/saved_model/loader.cc:259] SavedModel load for tags { serve }; Status: success. Took 117250 microseconds.\r\n",
      "2019-01-02 23:42:02.580227: I tensorflow_serving/servables/tensorflow/saved_model_warmup.cc:83] No warmup data file found at /home/bhupinder/PycharmProjects/untitled1/1/assets.extra/tf_serving_warmup_requests\r\n"
     ]
    }
   ],
   "source": [
    "!tail server.log"
   ]
  },
  {
   "cell_type": "code",
   "execution_count": 10,
   "metadata": {},
   "outputs": [
    {
     "data": {
      "text/plain": [
       "array([[0.00010675, 0.00012183, 0.00012073, ..., 0.00010677, 0.0001071 ,\n",
       "        0.0001069 ]])"
      ]
     },
     "execution_count": 10,
     "metadata": {},
     "output_type": "execute_result"
    }
   ],
   "source": [
    "import requests\n",
    "import json\n",
    "data = json.dumps({\"instances\" : [[23]]})\n",
    "headers = {\"content-type\": \"application/json\"}\n",
    "json_response = requests.post('http://localhost:850/v1/models/model:predict', data=data, headers=headers)\n",
    "predictions = json.loads(json_response.text)\n",
    "import numpy as np\n",
    "np.asanyarray(predictions['predictions'])"
   ]
  },
  {
   "cell_type": "code",
   "execution_count": null,
   "metadata": {},
   "outputs": [],
   "source": []
  }
 ],
 "metadata": {
  "kernelspec": {
   "display_name": "Python 3",
   "language": "python",
   "name": "python3"
  },
  "language_info": {
   "codemirror_mode": {
    "name": "ipython",
    "version": 3
   },
   "file_extension": ".py",
   "mimetype": "text/x-python",
   "name": "python",
   "nbconvert_exporter": "python",
   "pygments_lexer": "ipython3",
   "version": "3.6.7"
  }
 },
 "nbformat": 4,
 "nbformat_minor": 2
}
